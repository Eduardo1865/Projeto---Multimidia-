{
 "cells": [
  {
   "cell_type": "markdown",
   "metadata": {},
   "source": [
    "invertendo a imagem no eixo a cada 20 seg"
   ]
  },
  {
   "cell_type": "code",
   "execution_count": 1,
   "metadata": {},
   "outputs": [
    {
     "ename": "OSError",
     "evalue": "MoviePy error: the file shrek.mp4 could not be found!\nPlease check that you entered the correct path.",
     "output_type": "error",
     "traceback": [
      "\u001b[1;31m---------------------------------------------------------------------------\u001b[0m",
      "\u001b[1;31mOSError\u001b[0m                                   Traceback (most recent call last)",
      "Cell \u001b[1;32mIn[1], line 5\u001b[0m\n\u001b[0;32m      2\u001b[0m \u001b[38;5;28;01mimport\u001b[39;00m \u001b[38;5;21;01mnumpy\u001b[39;00m \u001b[38;5;28;01mas\u001b[39;00m \u001b[38;5;21;01mnp\u001b[39;00m\n\u001b[0;32m      3\u001b[0m \u001b[38;5;28;01mimport\u001b[39;00m \u001b[38;5;21;01mmatplotlib\u001b[39;00m\u001b[38;5;21;01m.\u001b[39;00m\u001b[38;5;21;01mpyplot\u001b[39;00m \u001b[38;5;28;01mas\u001b[39;00m \u001b[38;5;21;01mplt\u001b[39;00m\n\u001b[1;32m----> 5\u001b[0m video \u001b[38;5;241m=\u001b[39m \u001b[43mmpe\u001b[49m\u001b[38;5;241;43m.\u001b[39;49m\u001b[43mVideoFileClip\u001b[49m\u001b[43m(\u001b[49m\u001b[38;5;124;43m\"\u001b[39;49m\u001b[38;5;124;43mshrek.mp4\u001b[39;49m\u001b[38;5;124;43m\"\u001b[39;49m\u001b[43m)\u001b[49m \u001b[38;5;66;03m# importa o video\u001b[39;00m\n\u001b[0;32m      7\u001b[0m \u001b[38;5;28;01mdef\u001b[39;00m \u001b[38;5;21minverter\u001b[39m(get_frame, t): \u001b[38;5;66;03m#função que inverte o video\u001b[39;00m\n\u001b[0;32m      8\u001b[0m     segment \u001b[38;5;241m=\u001b[39m \u001b[38;5;28mint\u001b[39m(t \u001b[38;5;241m/\u001b[39m\u001b[38;5;241m/\u001b[39m \u001b[38;5;241m20\u001b[39m) \u001b[38;5;241m%\u001b[39m \u001b[38;5;241m2\u001b[39m \u001b[38;5;66;03m#divide o video de 20s em 20s\u001b[39;00m\n",
      "File \u001b[1;32mc:\\Users\\augus\\AppData\\Local\\Programs\\Python\\Python312\\Lib\\site-packages\\moviepy\\video\\io\\VideoFileClip.py:88\u001b[0m, in \u001b[0;36mVideoFileClip.__init__\u001b[1;34m(self, filename, has_mask, audio, audio_buffersize, target_resolution, resize_algorithm, audio_fps, audio_nbytes, verbose, fps_source)\u001b[0m\n\u001b[0;32m     86\u001b[0m \u001b[38;5;66;03m# Make a reader\u001b[39;00m\n\u001b[0;32m     87\u001b[0m pix_fmt \u001b[38;5;241m=\u001b[39m \u001b[38;5;124m\"\u001b[39m\u001b[38;5;124mrgba\u001b[39m\u001b[38;5;124m\"\u001b[39m \u001b[38;5;28;01mif\u001b[39;00m has_mask \u001b[38;5;28;01melse\u001b[39;00m \u001b[38;5;124m\"\u001b[39m\u001b[38;5;124mrgb24\u001b[39m\u001b[38;5;124m\"\u001b[39m\n\u001b[1;32m---> 88\u001b[0m \u001b[38;5;28mself\u001b[39m\u001b[38;5;241m.\u001b[39mreader \u001b[38;5;241m=\u001b[39m \u001b[43mFFMPEG_VideoReader\u001b[49m\u001b[43m(\u001b[49m\u001b[43mfilename\u001b[49m\u001b[43m,\u001b[49m\u001b[43m \u001b[49m\u001b[43mpix_fmt\u001b[49m\u001b[38;5;241;43m=\u001b[39;49m\u001b[43mpix_fmt\u001b[49m\u001b[43m,\u001b[49m\n\u001b[0;32m     89\u001b[0m \u001b[43m                                 \u001b[49m\u001b[43mtarget_resolution\u001b[49m\u001b[38;5;241;43m=\u001b[39;49m\u001b[43mtarget_resolution\u001b[49m\u001b[43m,\u001b[49m\n\u001b[0;32m     90\u001b[0m \u001b[43m                                 \u001b[49m\u001b[43mresize_algo\u001b[49m\u001b[38;5;241;43m=\u001b[39;49m\u001b[43mresize_algorithm\u001b[49m\u001b[43m,\u001b[49m\n\u001b[0;32m     91\u001b[0m \u001b[43m                                 \u001b[49m\u001b[43mfps_source\u001b[49m\u001b[38;5;241;43m=\u001b[39;49m\u001b[43mfps_source\u001b[49m\u001b[43m)\u001b[49m\n\u001b[0;32m     93\u001b[0m \u001b[38;5;66;03m# Make some of the reader's attributes accessible from the clip\u001b[39;00m\n\u001b[0;32m     94\u001b[0m \u001b[38;5;28mself\u001b[39m\u001b[38;5;241m.\u001b[39mduration \u001b[38;5;241m=\u001b[39m \u001b[38;5;28mself\u001b[39m\u001b[38;5;241m.\u001b[39mreader\u001b[38;5;241m.\u001b[39mduration\n",
      "File \u001b[1;32mc:\\Users\\augus\\AppData\\Local\\Programs\\Python\\Python312\\Lib\\site-packages\\moviepy\\video\\io\\ffmpeg_reader.py:35\u001b[0m, in \u001b[0;36mFFMPEG_VideoReader.__init__\u001b[1;34m(self, filename, print_infos, bufsize, pix_fmt, check_duration, target_resolution, resize_algo, fps_source)\u001b[0m\n\u001b[0;32m     33\u001b[0m \u001b[38;5;28mself\u001b[39m\u001b[38;5;241m.\u001b[39mfilename \u001b[38;5;241m=\u001b[39m filename\n\u001b[0;32m     34\u001b[0m \u001b[38;5;28mself\u001b[39m\u001b[38;5;241m.\u001b[39mproc \u001b[38;5;241m=\u001b[39m \u001b[38;5;28;01mNone\u001b[39;00m\n\u001b[1;32m---> 35\u001b[0m infos \u001b[38;5;241m=\u001b[39m \u001b[43mffmpeg_parse_infos\u001b[49m\u001b[43m(\u001b[49m\u001b[43mfilename\u001b[49m\u001b[43m,\u001b[49m\u001b[43m \u001b[49m\u001b[43mprint_infos\u001b[49m\u001b[43m,\u001b[49m\u001b[43m \u001b[49m\u001b[43mcheck_duration\u001b[49m\u001b[43m,\u001b[49m\n\u001b[0;32m     36\u001b[0m \u001b[43m                           \u001b[49m\u001b[43mfps_source\u001b[49m\u001b[43m)\u001b[49m\n\u001b[0;32m     37\u001b[0m \u001b[38;5;28mself\u001b[39m\u001b[38;5;241m.\u001b[39mfps \u001b[38;5;241m=\u001b[39m infos[\u001b[38;5;124m'\u001b[39m\u001b[38;5;124mvideo_fps\u001b[39m\u001b[38;5;124m'\u001b[39m]\n\u001b[0;32m     38\u001b[0m \u001b[38;5;28mself\u001b[39m\u001b[38;5;241m.\u001b[39msize \u001b[38;5;241m=\u001b[39m infos[\u001b[38;5;124m'\u001b[39m\u001b[38;5;124mvideo_size\u001b[39m\u001b[38;5;124m'\u001b[39m]\n",
      "File \u001b[1;32mc:\\Users\\augus\\AppData\\Local\\Programs\\Python\\Python312\\Lib\\site-packages\\moviepy\\video\\io\\ffmpeg_reader.py:270\u001b[0m, in \u001b[0;36mffmpeg_parse_infos\u001b[1;34m(filename, print_infos, check_duration, fps_source)\u001b[0m\n\u001b[0;32m    268\u001b[0m lines \u001b[38;5;241m=\u001b[39m infos\u001b[38;5;241m.\u001b[39msplitlines()\n\u001b[0;32m    269\u001b[0m \u001b[38;5;28;01mif\u001b[39;00m \u001b[38;5;124m\"\u001b[39m\u001b[38;5;124mNo such file or directory\u001b[39m\u001b[38;5;124m\"\u001b[39m \u001b[38;5;129;01min\u001b[39;00m lines[\u001b[38;5;241m-\u001b[39m\u001b[38;5;241m1\u001b[39m]:\n\u001b[1;32m--> 270\u001b[0m     \u001b[38;5;28;01mraise\u001b[39;00m \u001b[38;5;167;01mIOError\u001b[39;00m((\u001b[38;5;124m\"\u001b[39m\u001b[38;5;124mMoviePy error: the file \u001b[39m\u001b[38;5;132;01m%s\u001b[39;00m\u001b[38;5;124m could not be found!\u001b[39m\u001b[38;5;130;01m\\n\u001b[39;00m\u001b[38;5;124m\"\u001b[39m\n\u001b[0;32m    271\u001b[0m                   \u001b[38;5;124m\"\u001b[39m\u001b[38;5;124mPlease check that you entered the correct \u001b[39m\u001b[38;5;124m\"\u001b[39m\n\u001b[0;32m    272\u001b[0m                   \u001b[38;5;124m\"\u001b[39m\u001b[38;5;124mpath.\u001b[39m\u001b[38;5;124m\"\u001b[39m)\u001b[38;5;241m%\u001b[39mfilename)\n\u001b[0;32m    274\u001b[0m result \u001b[38;5;241m=\u001b[39m \u001b[38;5;28mdict\u001b[39m()\n\u001b[0;32m    277\u001b[0m \u001b[38;5;66;03m# get duration (in seconds)\u001b[39;00m\n",
      "\u001b[1;31mOSError\u001b[0m: MoviePy error: the file shrek.mp4 could not be found!\nPlease check that you entered the correct path."
     ]
    }
   ],
   "source": [
    "import moviepy.editor as mpe\n",
    "import numpy as np\n",
    "import matplotlib.pyplot as plt\n",
    "\n",
    "video = mpe.VideoFileClip(\"shrek.mp4\") # importa o video\n",
    "\n",
    "def inverter(get_frame, t): #função que inverte o video\n",
    "    segment = int(t // 20) % 2 #divide o video de 20s em 20s\n",
    "    frame = get_frame(t) #pega o frame \n",
    "    if segment == 0: #se o segmento for 0, ele retorna o frame normal\n",
    "        return frame\n",
    "    else: #se não, ele inverte o frame\n",
    "        return np.flipud(frame)\n",
    "\n",
    "video_invertido = video.fl(inverter)\n",
    "video_invertido.ipython_display(width=480, maxduration=300)\n",
    "\n"
   ]
  },
  {
   "cell_type": "markdown",
   "metadata": {},
   "source": [
    "corte do 60 para o 80"
   ]
  },
  {
   "cell_type": "code",
   "execution_count": 2,
   "metadata": {},
   "outputs": [
    {
     "ename": "NameError",
     "evalue": "name 'video_invertido' is not defined",
     "output_type": "error",
     "traceback": [
      "\u001b[1;31m---------------------------------------------------------------------------\u001b[0m",
      "\u001b[1;31mNameError\u001b[0m                                 Traceback (most recent call last)",
      "Cell \u001b[1;32mIn[2], line 4\u001b[0m\n\u001b[0;32m      1\u001b[0m \u001b[38;5;28;01mdef\u001b[39;00m \u001b[38;5;21mcortar_e_pular\u001b[39m(video, start, end): \u001b[38;5;66;03m#função que corta e pula um trecho do video\u001b[39;00m\n\u001b[0;32m      2\u001b[0m     \u001b[38;5;28;01mreturn\u001b[39;00m mpe\u001b[38;5;241m.\u001b[39mconcatenate_videoclips([video\u001b[38;5;241m.\u001b[39msubclip(\u001b[38;5;241m0\u001b[39m, start), video\u001b[38;5;241m.\u001b[39msubclip(end, video\u001b[38;5;241m.\u001b[39mduration)]) \u001b[38;5;66;03m#retorna o video cortado\u001b[39;00m\n\u001b[1;32m----> 4\u001b[0m video_pulado \u001b[38;5;241m=\u001b[39m cortar_e_pular(\u001b[43mvideo_invertido\u001b[49m, \u001b[38;5;241m60\u001b[39m, \u001b[38;5;241m80\u001b[39m) \u001b[38;5;66;03m#corta o video de 60 a 80s\u001b[39;00m\n\u001b[0;32m      6\u001b[0m video_pulado\u001b[38;5;241m.\u001b[39mipython_display(width\u001b[38;5;241m=\u001b[39m\u001b[38;5;241m480\u001b[39m, maxduration\u001b[38;5;241m=\u001b[39m\u001b[38;5;241m300\u001b[39m)\n",
      "\u001b[1;31mNameError\u001b[0m: name 'video_invertido' is not defined"
     ]
    }
   ],
   "source": [
    "def cortar_e_pular(video, start, end): #função que corta e pula um trecho do video\n",
    "    return mpe.concatenate_videoclips([video.subclip(0, start), video.subclip(end, video.duration)]) #retorna o video cortado\n",
    "\n",
    "video_pulado = cortar_e_pular(video_invertido, 60, 80) #corta o video de 60 a 80s\n",
    "\n",
    "video_pulado.ipython_display(width=480, maxduration=300)"
   ]
  },
  {
   "cell_type": "markdown",
   "metadata": {},
   "source": [
    "inserindo os 20s cortados no final do video"
   ]
  },
  {
   "cell_type": "code",
   "execution_count": 3,
   "metadata": {},
   "outputs": [
    {
     "ename": "NameError",
     "evalue": "name 'video' is not defined",
     "output_type": "error",
     "traceback": [
      "\u001b[1;31m---------------------------------------------------------------------------\u001b[0m",
      "\u001b[1;31mNameError\u001b[0m                                 Traceback (most recent call last)",
      "Cell \u001b[1;32mIn[3], line 1\u001b[0m\n\u001b[1;32m----> 1\u001b[0m trecho \u001b[38;5;241m=\u001b[39m \u001b[43mvideo\u001b[49m\u001b[38;5;241m.\u001b[39msubclip(\u001b[38;5;241m60\u001b[39m, \u001b[38;5;241m80\u001b[39m) \u001b[38;5;66;03m#pega o trecho de 60 a 80s do video\u001b[39;00m\n\u001b[0;32m      3\u001b[0m video_com_trecho \u001b[38;5;241m=\u001b[39m mpe\u001b[38;5;241m.\u001b[39mconcatenate_videoclips([video_pulado, trecho]) \u001b[38;5;66;03m#concatena o video pulado com o trecho\u001b[39;00m\n\u001b[0;32m      5\u001b[0m video_com_trecho\u001b[38;5;241m.\u001b[39mipython_display(width\u001b[38;5;241m=\u001b[39m\u001b[38;5;241m480\u001b[39m, maxduration\u001b[38;5;241m=\u001b[39m\u001b[38;5;241m300\u001b[39m) \n",
      "\u001b[1;31mNameError\u001b[0m: name 'video' is not defined"
     ]
    }
   ],
   "source": [
    "trecho = video.subclip(60, 80) #pega o trecho de 60 a 80s do video\n",
    "\n",
    "video_com_trecho = mpe.concatenate_videoclips([video_pulado, trecho]) #concatena o video pulado com o trecho\n",
    "\n",
    "video_com_trecho.ipython_display(width=480, maxduration=300) "
   ]
  },
  {
   "cell_type": "markdown",
   "metadata": {},
   "source": [
    "Diminuindo o som de forma gradativa de 30 em 30 segundos"
   ]
  },
  {
   "cell_type": "code",
   "execution_count": 4,
   "metadata": {},
   "outputs": [
    {
     "ename": "NameError",
     "evalue": "name 'video_com_trecho' is not defined",
     "output_type": "error",
     "traceback": [
      "\u001b[1;31m---------------------------------------------------------------------------\u001b[0m",
      "\u001b[1;31mNameError\u001b[0m                                 Traceback (most recent call last)",
      "Cell \u001b[1;32mIn[4], line 15\u001b[0m\n\u001b[0;32m     11\u001b[0m         audiov[:, \u001b[38;5;241m1\u001b[39m] \u001b[38;5;241m*\u001b[39m\u001b[38;5;241m=\u001b[39m tempo_restante \u001b[38;5;241m/\u001b[39m (duracao_total \u001b[38;5;241m-\u001b[39m \u001b[38;5;241m10\u001b[39m)\n\u001b[0;32m     13\u001b[0m     \u001b[38;5;28;01mreturn\u001b[39;00m audiov\n\u001b[1;32m---> 15\u001b[0m duracao_total \u001b[38;5;241m=\u001b[39m \u001b[43mvideo_com_trecho\u001b[49m\u001b[38;5;241m.\u001b[39mduration\n\u001b[0;32m     17\u001b[0m audio_diminuido \u001b[38;5;241m=\u001b[39m video_com_trecho\u001b[38;5;241m.\u001b[39maudio\u001b[38;5;241m.\u001b[39mfl(\u001b[38;5;28;01mlambda\u001b[39;00m gf, t: diminuir_som(gf, t, duracao_total))\n\u001b[0;32m     18\u001b[0m video_final \u001b[38;5;241m=\u001b[39m video_com_trecho\u001b[38;5;241m.\u001b[39mset_audio(audio_diminuido)\n",
      "\u001b[1;31mNameError\u001b[0m: name 'video_com_trecho' is not defined"
     ]
    }
   ],
   "source": [
    "\n",
    "def diminuir_som(audio, t, duracao_total): #função que diminui o som do video\n",
    "\n",
    "    tempo_restante = duracao_total - t #tempo restante do video\n",
    "    audiov = audio(t) #pega o audio do video\n",
    "    \n",
    "    if np.any(tempo_restante <= 10): #se o tempo restante for menor ou igual a 10s, o som é zerado\n",
    "        audiov[:, 0] *= 0\n",
    "        audiov[:, 1] *= 0\n",
    "    else: #se não, o som é diminuido\n",
    "        audiov[:, 0] *= tempo_restante / (duracao_total - 10)\n",
    "        audiov[:, 1] *= tempo_restante / (duracao_total - 10)\n",
    "    \n",
    "    return audiov\n",
    "\n",
    "duracao_total = video_com_trecho.duration\n",
    "\n",
    "audio_diminuido = video_com_trecho.audio.fl(lambda gf, t: diminuir_som(gf, t, duracao_total))\n",
    "video_final = video_com_trecho.set_audio(audio_diminuido)\n",
    "\n",
    "video_final.ipython_display(width=480, maxduration=300)\n"
   ]
  }
 ],
 "metadata": {
  "kernelspec": {
   "display_name": "Python 3",
   "language": "python",
   "name": "python3"
  },
  "language_info": {
   "codemirror_mode": {
    "name": "ipython",
    "version": 3
   },
   "file_extension": ".py",
   "mimetype": "text/x-python",
   "name": "python",
   "nbconvert_exporter": "python",
   "pygments_lexer": "ipython3",
   "version": "3.12.5"
  }
 },
 "nbformat": 4,
 "nbformat_minor": 2
}
